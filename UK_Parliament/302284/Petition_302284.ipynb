{
 "cells": [
  {
   "cell_type": "markdown",
   "metadata": {},
   "source": [
    "# UK Parliament Petition 302284"
   ]
  },
  {
   "cell_type": "markdown",
   "metadata": {},
   "source": [
    "<https://petition.parliament.uk/petitions/302284>"
   ]
  },
  {
   "cell_type": "code",
   "execution_count": 1,
   "metadata": {},
   "outputs": [],
   "source": [
    "import json\n",
    "import os\n",
    "\n",
    "import datetime\n",
    "import pandas as pd\n",
    "import numpy as np\n",
    "import matplotlib.pyplot as plt\n",
    "import shijian\n",
    "shijian.setup_Jupyter()"
   ]
  },
  {
   "cell_type": "code",
   "execution_count": 2,
   "metadata": {},
   "outputs": [],
   "source": [
    "files = []\n",
    "for r, d, f in os.walk('.'):\n",
    "    for _file in f:\n",
    "        if '.json' in _file:\n",
    "            files.append(os.path.join(r, _file))"
   ]
  },
  {
   "cell_type": "code",
   "execution_count": 3,
   "metadata": {},
   "outputs": [
    {
     "data": {
      "text/html": [
       "<div>\n",
       "<style scoped>\n",
       "    .dataframe tbody tr th:only-of-type {\n",
       "        vertical-align: middle;\n",
       "    }\n",
       "\n",
       "    .dataframe tbody tr th {\n",
       "        vertical-align: top;\n",
       "    }\n",
       "\n",
       "    .dataframe thead th {\n",
       "        text-align: right;\n",
       "    }\n",
       "</style>\n",
       "<table border=\"1\" class=\"dataframe\">\n",
       "  <thead>\n",
       "    <tr style=\"text-align: right;\">\n",
       "      <th></th>\n",
       "      <th>signatures</th>\n",
       "    </tr>\n",
       "    <tr>\n",
       "      <th>datetime</th>\n",
       "      <th></th>\n",
       "    </tr>\n",
       "  </thead>\n",
       "  <tbody>\n",
       "    <tr>\n",
       "      <th>2020-03-26 05:02:52+00:00</th>\n",
       "      <td>106142</td>\n",
       "    </tr>\n",
       "    <tr>\n",
       "      <th>2020-03-26 05:32:53+00:00</th>\n",
       "      <td>106144</td>\n",
       "    </tr>\n",
       "    <tr>\n",
       "      <th>2020-03-26 06:02:53+00:00</th>\n",
       "      <td>106146</td>\n",
       "    </tr>\n",
       "    <tr>\n",
       "      <th>2020-03-26 06:32:53+00:00</th>\n",
       "      <td>106154</td>\n",
       "    </tr>\n",
       "    <tr>\n",
       "      <th>2020-03-29 19:26:13+00:00</th>\n",
       "      <td>108034</td>\n",
       "    </tr>\n",
       "  </tbody>\n",
       "</table>\n",
       "</div>"
      ],
      "text/plain": [
       "                           signatures\n",
       "datetime                             \n",
       "2020-03-26 05:02:52+00:00      106142\n",
       "2020-03-26 05:32:53+00:00      106144\n",
       "2020-03-26 06:02:53+00:00      106146\n",
       "2020-03-26 06:32:53+00:00      106154\n",
       "2020-03-29 19:26:13+00:00      108034"
      ]
     },
     "execution_count": 3,
     "metadata": {},
     "output_type": "execute_result"
    }
   ],
   "source": [
    "data = []\n",
    "for _file in files:\n",
    "    _datetime = os.path.splitext(os.path.basename(_file))[0]\n",
    "    with open(_file) as f:\n",
    "        count = json.load(f)['data']['attributes']['signature_count']\n",
    "    data.append([_datetime, count])\n",
    "\n",
    "df = pd.DataFrame(\n",
    "    data,\n",
    "    columns = [\n",
    "        \"datetime\",\n",
    "        \"signatures\"\n",
    "    ]\n",
    ")\n",
    "df.index = pd.to_datetime(df[\"datetime\"])\n",
    "del df[\"datetime\"]\n",
    "df = df.sort_index()\n",
    "df.tail()"
   ]
  },
  {
   "cell_type": "code",
   "execution_count": 4,
   "metadata": {},
   "outputs": [
    {
     "data": {
      "image/png": "[encoded data removed]",
      "text/plain": [
       "<Figure size 1224x720 with 1 Axes>"
      ]
     },
     "metadata": {},
     "output_type": "display_data"
    }
   ],
   "source": [
    "plt.plot(df.index, df[\"signatures\"])\n",
    "plt.show();"
   ]
  },
  {
   "cell_type": "code",
   "execution_count": 5,
   "metadata": {},
   "outputs": [
    {
     "data": {
      "text/plain": [
       "345.4610216141828"
      ]
     },
     "execution_count": 5,
     "metadata": {},
     "output_type": "execute_result"
    }
   ],
   "source": [
    "delta_hours         = (df.index[-1] - df.index[0]).total_seconds() / 3600 + 1\n",
    "delta_signatures    = df[\"signatures\"][-1] - df[\"signatures\"][0]\n",
    "signatures_per_hour = delta_signatures / delta_hours\n",
    "signatures_per_hour"
   ]
  },
  {
   "cell_type": "code",
   "execution_count": 6,
   "metadata": {},
   "outputs": [
    {
     "data": {
      "text/plain": [
       "0.09596139489282855"
      ]
     },
     "execution_count": 6,
     "metadata": {},
     "output_type": "execute_result"
    }
   ],
   "source": [
    "signatures_per_second = signatures_per_hour / (60 * 60)\n",
    "signatures_per_second"
   ]
  },
  {
   "cell_type": "code",
   "execution_count": 7,
   "metadata": {},
   "outputs": [
    {
     "data": {
      "text/plain": [
       "8291.064518740388"
      ]
     },
     "execution_count": 7,
     "metadata": {},
     "output_type": "execute_result"
    }
   ],
   "source": [
    "signatures_per_day = signatures_per_hour * 24\n",
    "signatures_per_day"
   ]
  }
 ],
 "metadata": {
  "kernelspec": {
   "display_name": "Python 3",
   "language": "python",
   "name": "python3"
  },
  "language_info": {
   "codemirror_mode": {
    "name": "ipython",
    "version": 3
   },
   "file_extension": ".py",
   "mimetype": "text/x-python",
   "name": "python",
   "nbconvert_exporter": "python",
   "pygments_lexer": "ipython3",
   "version": "3.6.9"
  }
 },
 "nbformat": 4,
 "nbformat_minor": 2
}
